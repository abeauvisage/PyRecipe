{
 "cells": [
  {
   "cell_type": "code",
   "execution_count": 1,
   "id": "f3fd62aa-bd5c-428b-a545-2cd33ccef7b2",
   "metadata": {},
   "outputs": [
    {
     "data": {
      "application/vnd.jupyter.widget-view+json": {
       "model_id": "8ca01d1a421e46608d20c763ec79ace4",
       "version_major": 2,
       "version_minor": 0
      },
      "text/plain": [
       "Text(value='', disabled=True)"
      ]
     },
     "metadata": {},
     "output_type": "display_data"
    },
    {
     "data": {
      "application/vnd.jupyter.widget-view+json": {
       "model_id": "e145db1edd36424199130505b7c71d4c",
       "version_major": 2,
       "version_minor": 0
      },
      "text/plain": [
       "BoundedIntText(value=1, description='Number of people:', max=10)"
      ]
     },
     "metadata": {},
     "output_type": "display_data"
    },
    {
     "data": {
      "application/vnd.jupyter.widget-view+json": {
       "model_id": "986465f3cfbd42d1b0614276292aac04",
       "version_major": 2,
       "version_minor": 0
      },
      "text/plain": [
       "Output()"
      ]
     },
     "metadata": {},
     "output_type": "display_data"
    },
    {
     "data": {
      "application/vnd.jupyter.widget-view+json": {
       "model_id": "e2b117afb99e42a9806686304ce1927e",
       "version_major": 2,
       "version_minor": 0
      },
      "text/plain": [
       "Dropdown(description='Choose', options=('Aubergines Feta', 'Brandade de Morue', 'Broccoli Quinoa', 'Camembert …"
      ]
     },
     "metadata": {},
     "output_type": "display_data"
    }
   ],
   "source": [
    "import os\n",
    "import ipywidgets as widgets\n",
    "from IPython.display import display\n",
    "\n",
    "from src.Settings import RECIPE_DIR\n",
    "from src.Recipe import list_recipes, Recipe\n",
    "\n",
    "\n",
    "recipe_dict = list_recipes()\n",
    "recipe_names = list(recipe_dict.keys())\n",
    "\n",
    "drop_down = widgets.Dropdown(options=recipe_names,\n",
    "                                description='Choose',\n",
    "                                disabled=False)\n",
    "\n",
    "nb_people = widgets.BoundedIntText(value=\"1\", min=0, max=10, description=\"Number of people:\")\n",
    "\n",
    "recipe = Recipe()\n",
    "\n",
    "textbox = widgets.Text(value='', disabled=True)\n",
    "display(textbox)\n",
    "\n",
    "def people_handler(change):\n",
    "    global recipe\n",
    "    with output2:\n",
    "        output2.clear_output()\n",
    "        recipe.change_nb_persons(change[\"new\"])\n",
    "        recipe.show()\n",
    "        \n",
    "\n",
    "nb_people.observe(people_handler, 'value')\n",
    "display(nb_people)\n",
    "\n",
    "output2 = widgets.Output()\n",
    "display(output2)\n",
    "\n",
    "def dropdown_handler(change):\n",
    "    global recipe\n",
    "    recipe = Recipe.load(recipe_dict[change[\"new\"]][\"filename\"], recipe_dict[change[\"new\"]][\"id\"])\n",
    "    nb_people.value = recipe.nb_persons\n",
    "    with output2:\n",
    "        output2.clear_output()\n",
    "        recipe.show()\n",
    "        textbox.value = recipe.name\n",
    "\n",
    "\n",
    "drop_down.observe(dropdown_handler, names='value')\n",
    "display(drop_down)\n"
   ]
  }
 ],
 "metadata": {
  "kernelspec": {
   "display_name": "Python 3 (ipykernel)",
   "language": "python",
   "name": "python3"
  },
  "language_info": {
   "codemirror_mode": {
    "name": "ipython",
    "version": 3
   },
   "file_extension": ".py",
   "mimetype": "text/x-python",
   "name": "python",
   "nbconvert_exporter": "python",
   "pygments_lexer": "ipython3",
   "version": "3.10.8"
  }
 },
 "nbformat": 4,
 "nbformat_minor": 5
}
