{
 "cells": [
  {
   "cell_type": "code",
   "execution_count": 1,
   "id": "f3fd62aa-bd5c-428b-a545-2cd33ccef7b2",
   "metadata": {},
   "outputs": [
    {
     "data": {
      "application/vnd.jupyter.widget-view+json": {
       "model_id": "d28f666ef5e84dc9b71e8d8d0e796da5",
       "version_major": 2,
       "version_minor": 0
      },
      "text/plain": [
       "Text(value='', disabled=True)"
      ]
     },
     "metadata": {},
     "output_type": "display_data"
    },
    {
     "data": {
      "application/vnd.jupyter.widget-view+json": {
       "model_id": "ee847dd7ea3f4f1e8b399db2d04bcbb3",
       "version_major": 2,
       "version_minor": 0
      },
      "text/plain": [
       "BoundedIntText(value=1, description='Number of people:', max=10)"
      ]
     },
     "metadata": {},
     "output_type": "display_data"
    },
    {
     "data": {
      "application/vnd.jupyter.widget-view+json": {
       "model_id": "234a81b78e024ca5ae518f037c0abd8c",
       "version_major": 2,
       "version_minor": 0
      },
      "text/plain": [
       "Output()"
      ]
     },
     "metadata": {},
     "output_type": "display_data"
    },
    {
     "data": {
      "application/vnd.jupyter.widget-view+json": {
       "model_id": "2c2eb1e99d3c40c0b69fc3c10d4064f5",
       "version_major": 2,
       "version_minor": 0
      },
      "text/plain": [
       "Dropdown(description='Choose', options=('Aubergines Feta', 'Brandade de Morue', 'Broccoli Quinoa', 'Burrito', …"
      ]
     },
     "metadata": {},
     "output_type": "display_data"
    }
   ],
   "source": [
    "import os\n",
    "import ipywidgets as widgets\n",
    "from IPython.display import display\n",
    "\n",
    "from src.Settings import RECIPE_DIR\n",
    "from src.Recipe import list_recipes, Recipe\n",
    "\n",
    "\n",
    "recipe_dict = list_recipes()\n",
    "recipe_names = list(recipe_dict.keys())\n",
    "\n",
    "drop_down = widgets.Dropdown(options=recipe_names,\n",
    "                                description='Choose',\n",
    "                                disabled=False)\n",
    "\n",
    "nb_people = widgets.BoundedIntText(value=\"1\", min=0, max=10, description=\"Number of people:\")\n",
    "\n",
    "recipe = Recipe()\n",
    "\n",
    "textbox = widgets.Text(value='', disabled=True)\n",
    "display(textbox)\n",
    "\n",
    "def people_handler(change):\n",
    "    global recipe\n",
    "    with output2:\n",
    "        output2.clear_output()\n",
    "        recipe.change_nb_persons(change[\"new\"])\n",
    "        recipe.show()\n",
    "        \n",
    "\n",
    "nb_people.observe(people_handler, 'value')\n",
    "display(nb_people)\n",
    "\n",
    "output2 = widgets.Output()\n",
    "display(output2)\n",
    "\n",
    "def dropdown_handler(change):\n",
    "    global recipe\n",
    "    recipe = Recipe.load(recipe_dict[change[\"new\"]][\"filename\"], recipe_dict[change[\"new\"]][\"id\"])\n",
    "    nb_people.value = recipe.nb_persons\n",
    "    with output2:\n",
    "        output2.clear_output()\n",
    "        recipe.show()\n",
    "        textbox.value = recipe.name\n",
    "\n",
    "\n",
    "drop_down.observe(dropdown_handler, names='value')\n",
    "display(drop_down)\n"
   ]
  }
 ],
 "metadata": {
  "kernelspec": {
   "display_name": "Python 3 (ipykernel)",
   "language": "python",
   "name": "python3"
  },
  "language_info": {
   "codemirror_mode": {
    "name": "ipython",
    "version": 3
   },
   "file_extension": ".py",
   "mimetype": "text/x-python",
   "name": "python",
   "nbconvert_exporter": "python",
   "pygments_lexer": "ipython3",
   "version": "3.9.5"
  }
 },
 "nbformat": 4,
 "nbformat_minor": 5
}
