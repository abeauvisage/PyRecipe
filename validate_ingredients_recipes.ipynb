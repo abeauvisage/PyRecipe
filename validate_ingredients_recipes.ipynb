{
 "cells": [
  {
   "cell_type": "markdown",
   "id": "b95633e9-d833-4d79-874a-a02ee1c47d1e",
   "metadata": {},
   "source": [
    "## validate ingredient/recipes:"
   ]
  },
  {
   "cell_type": "code",
   "execution_count": 1,
   "id": "bfa4214d-bd1a-4093-acee-54dbb1ca039a",
   "metadata": {},
   "outputs": [
    {
     "data": {
      "application/vnd.jupyter.widget-view+json": {
       "model_id": "d5141da522344f66b64fa807ef92c495",
       "version_major": 2,
       "version_minor": 0
      },
      "text/plain": [
       "Text(value='', description='New ingredient')"
      ]
     },
     "metadata": {},
     "output_type": "display_data"
    },
    {
     "data": {
      "application/vnd.jupyter.widget-view+json": {
       "model_id": "d2348ac4c0d64595a91aee263ba19238",
       "version_major": 2,
       "version_minor": 0
      },
      "text/plain": [
       "VBox()"
      ]
     },
     "metadata": {},
     "output_type": "display_data"
    },
    {
     "data": {
      "application/vnd.jupyter.widget-view+json": {
       "model_id": "3b90faa4ea234a18b66a7f0111d550af",
       "version_major": 2,
       "version_minor": 0
      },
      "text/plain": [
       "Button(icon='plus', style=ButtonStyle(), tooltip='add')"
      ]
     },
     "metadata": {},
     "output_type": "display_data"
    },
    {
     "data": {
      "application/vnd.jupyter.widget-view+json": {
       "model_id": "8a40b31152624460ab9b8c5c68cf55ad",
       "version_major": 2,
       "version_minor": 0
      },
      "text/plain": [
       "Button(icon='minus', style=ButtonStyle(), tooltip='add')"
      ]
     },
     "metadata": {},
     "output_type": "display_data"
    },
    {
     "data": {
      "application/vnd.jupyter.widget-view+json": {
       "model_id": "0944a679f0ef491781e4fbc24b44a7c4",
       "version_major": 2,
       "version_minor": 0
      },
      "text/plain": [
       "HBox(children=(Label(value='Months: '), Checkbox(value=False, description='1', indent=False), Checkbox(value=F…"
      ]
     },
     "metadata": {},
     "output_type": "display_data"
    },
    {
     "data": {
      "application/vnd.jupyter.widget-view+json": {
       "model_id": "8aa04f8111bd46fb857aeabf9bf603f5",
       "version_major": 2,
       "version_minor": 0
      },
      "text/plain": [
       "Button(icon='play', style=ButtonStyle(), tooltip='Save')"
      ]
     },
     "metadata": {},
     "output_type": "display_data"
    }
   ],
   "source": [
    "import os\n",
    "import yaml\n",
    "\n",
    "import ipywidgets as widgets\n",
    "from IPython.display import display\n",
    "\n",
    "from src.Settings import RECIPE_DIR\n",
    "from src.Recipe import list_recipes, get_ingredient_unit, Recipe\n",
    "\n",
    "def format_ingredient_name(ingredient_name):\n",
    "    ingredient_name = ingredient_name.lower()\n",
    "    ingredient_name = ingredient_name.replace(\" \", \"\")\n",
    "    \n",
    "    if ingredient_name.endswith(\"ies\"):\n",
    "        ingredient_name = ingredient_name[:-3] + \"y\"\n",
    "    if ingredient_name.endswith(\"es\"):\n",
    "        ingredient_name = ingredient_name[:-2]\n",
    "    if ingredient_name.endswith(\"s\"):\n",
    "        ingredient_name = ingredient_name[:-1]\n",
    "        \n",
    "    return ingredient_name\n",
    "\n",
    "ingredient_list = []\n",
    "with open(os.path.join(os.getcwd(),\"rsrc\", \"ingredients.yaml\"), 'r') as ingf:\n",
    "    ingredients = yaml.load(ingf, Loader=yaml.FullLoader)\n",
    "    for k, v in ingredients.items():\n",
    "        ingredient_list.append(format_ingredient_name(k))\n",
    "        ingredient_list += [format_ingredient_name(alt) for alt in v.get(\"alternatives\", [])]\n",
    "\n",
    "recipe_list = list_recipes()\n",
    "for recipe_name, recipe_data in recipe_list.items():\n",
    "    recipe = Recipe.load(recipe_data[\"filename\"], recipe_data[\"id\"])\n",
    "    for ingredient in recipe.ingredients:\n",
    "        ingredient_name = format_ingredient_name(ingredient[\"name\"])\n",
    "        \n",
    "        if not ingredient_name in ingredient_list:\n",
    "            print(f\"{recipe_name}:  {ingredient_name}\")\n",
    "            break\n",
    "\n",
    "checkboxes_list = [widgets.Label(value=\"Months: \")]\n",
    "for i in range(1, 13):\n",
    "    checkboxes_list.append(\n",
    "        widgets.Checkbox(\n",
    "            value=False,\n",
    "            description=f\"{i}\",\n",
    "            disabled=False,\n",
    "            indent=False\n",
    "        )\n",
    "    )\n",
    "\n",
    "textbox = widgets.Text(value='', description='New ingredient', disabled=False)\n",
    "display(textbox)\n",
    "alternative_list = widgets.VBox([])\n",
    "display(alternative_list)\n",
    "\n",
    "def add_alt(b=None):\n",
    "    alternative_list.children += (widgets.Text(value='', description='aternative', disabled=False),)\n",
    "def remove_alt(b=None):\n",
    "    alternative_list.children = alternative_list.children[:-1]\n",
    "    \n",
    "add_button = widgets.Button(\n",
    "                    disabled=False,\n",
    "                    button_style='',\n",
    "                    tooltip='add',\n",
    "                    icon='plus',\n",
    "                )\n",
    "remove_button = widgets.Button(\n",
    "                    disabled=False,\n",
    "                    button_style='',\n",
    "                    tooltip='add',\n",
    "                    icon='minus',\n",
    "                )\n",
    "add_button.on_click(add_alt)\n",
    "remove_button.on_click(remove_alt)\n",
    "display(add_button)\n",
    "display(remove_button)\n",
    "\n",
    "checkboxes = widgets.HBox(checkboxes_list)\n",
    "display(checkboxes)\n",
    "\n",
    "def save(b=None):\n",
    "\n",
    "    content = {}\n",
    "    if len(alternative_list.children) > 0:\n",
    "        content[\"alternatives\"] = []\n",
    "        for child in alternative_list.children:\n",
    "            content[\"alternatives\"].append(child.value)\n",
    "    seasons = []\n",
    "    for i, checkbox in enumerate(checkboxes.children[1:]):\n",
    "        if checkbox.value:\n",
    "            seasons.append(i+1)\n",
    "    if seasons:\n",
    "        content[\"season\"] = seasons\n",
    "    ingredients = {}\n",
    "    with open(os.path.join(os.getcwd(),\"rsrc\", \"ingredients.yaml\"), 'r') as ingf:\n",
    "        ingredients = yaml.load(ingf, Loader=yaml.FullLoader)\n",
    "    ingredients[textbox.value] = content\n",
    "    with open(os.path.join(os.getcwd(),\"rsrc\", \"ingredients.yaml\"), 'w') as ingf:\n",
    "        yaml.dump(ingredients, ingf, default_flow_style=False)\n",
    "\n",
    "save_button = widgets.Button(\n",
    "    disabled=False,\n",
    "    button_style='',\n",
    "    tooltip='Save',\n",
    "    icon='play',\n",
    ")\n",
    "save_button.on_click(save)\n",
    "display(save_button)"
   ]
  }
 ],
 "metadata": {
  "kernelspec": {
   "display_name": "Python 3 (ipykernel)",
   "language": "python",
   "name": "python3"
  },
  "language_info": {
   "codemirror_mode": {
    "name": "ipython",
    "version": 3
   },
   "file_extension": ".py",
   "mimetype": "text/x-python",
   "name": "python",
   "nbconvert_exporter": "python",
   "pygments_lexer": "ipython3",
   "version": "3.10.8"
  }
 },
 "nbformat": 4,
 "nbformat_minor": 5
}
