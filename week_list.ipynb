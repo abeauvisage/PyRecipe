{
 "cells": [
  {
   "cell_type": "markdown",
   "id": "4f5a70e0-d379-49c1-bef4-609b864815e1",
   "metadata": {},
   "source": [
    "## Week list"
   ]
  },
  {
   "cell_type": "code",
   "execution_count": 16,
   "id": "a8e0eb31-974d-4604-b4d1-9e0fb57df7e5",
   "metadata": {},
   "outputs": [
    {
     "data": {
      "application/vnd.jupyter.widget-view+json": {
       "model_id": "06351261813744e38a2613b1598cf302",
       "version_major": 2,
       "version_minor": 0
      },
      "text/plain": [
       "VBox(children=(BoundedIntText(value=7, description='Number of recipes:', max=10), HBox(children=(Dropdown(desc…"
      ]
     },
     "metadata": {},
     "output_type": "display_data"
    }
   ],
   "source": [
    "import os\n",
    "import random\n",
    "import yaml\n",
    "import math\n",
    "from collections import defaultdict\n",
    "from datetime import date\n",
    "\n",
    "import ipywidgets as widgets\n",
    "from IPython.display import display\n",
    "\n",
    "from src.Settings import RECIPE_DIR\n",
    "from src.Recipe import SCALING_FACTORS, list_recipes, get_ingredient_unit, format_ingredient_name, update_selection, Recipe\n",
    "\n",
    "recipe_list = list_recipes()\n",
    "recipe_names = list(recipe_list.keys())\n",
    "\n",
    "today = date.today()\n",
    "recipe_names_with_selection = []\n",
    "for name, recipe in recipe_list.items():\n",
    "    recipe_obj =  Recipe.load(recipe[\"filename\"])\n",
    "    score = recipe_obj.compute_seasonal_score()\n",
    "    if recipe.get(\"selection\"):\n",
    "        recipe_names_with_selection.append(f\"{(today - recipe.get('selection')).days} - {name} -   {score}\")\n",
    "    else:\n",
    "        recipe_names_with_selection.append(f\"Never - {name} -   {score}\")\n",
    "recipe_names_with_selection = sorted(recipe_names_with_selection)\n",
    "        \n",
    "\n",
    "this_week_list = widgets.VBox(\n",
    "    [\n",
    "        widgets.BoundedIntText(value=\"7\", min=0, max=10, description=\"Number of recipes:\"),\n",
    "        widgets.HBox([widgets.Dropdown(options=recipe_names_with_selection,\n",
    "                                description='Select',\n",
    "                                disabled=False), widgets.Button(disabled=False, button_style='', tooltip='Add', icon='plus')]),\n",
    "        widgets.Label(value=\"This week's list: \"),\n",
    "        widgets.VBox([]),\n",
    "        widgets.Button(\n",
    "            disabled=False,\n",
    "            button_style='',\n",
    "            tooltip='Generate',\n",
    "            icon='play',\n",
    "        ),\n",
    "        widgets.Button(\n",
    "            disabled=False,\n",
    "            button_style='',\n",
    "            tooltip='Shopping list',\n",
    "            icon='store',\n",
    "        ),\n",
    "    ]\n",
    ")\n",
    "\n",
    "def add_button(b=None):\n",
    "    print(this_week_list.children[1].children[0].value)\n",
    "    add_recipe(this_week_list.children[1].children[0].value.split(\" - \")[1])\n",
    "\n",
    "def change_button(b=None):\n",
    "    selection = random.randint(0, len(recipe_names)-1)\n",
    "    this_week_list.children[3].children[int(b.tooltip)].children[-1].value = f\"{recipe_names[selection]}\"\n",
    "\n",
    "def remove_button(b=None):\n",
    "    print(b.tooltip)\n",
    "    this_week_list.children[3].children[int(b.tooltip)].children=()\n",
    "\n",
    "def add_recipe(name):\n",
    "    existing_names  = [child.children[-1].value for child in this_week_list.children[3].children]\n",
    "    if name in existing_names:\n",
    "        print(\"Warning: recipe already included. Skipping.\")\n",
    "        return False\n",
    "    i = len(this_week_list.children[3].children)\n",
    "    this_week_list.children[3].children += (widgets.HBox(\n",
    "        [\n",
    "            widgets.Button(\n",
    "                disabled=False,\n",
    "                button_style='',\n",
    "                tooltip=str(i),\n",
    "                icon='pen',\n",
    "            ),\n",
    "            widgets.Button(\n",
    "                disabled=False,\n",
    "                button_style='',\n",
    "                tooltip=str(i),\n",
    "                icon='minus',\n",
    "            ),\n",
    "            widgets.Label(value=f\"{name}\"),\n",
    "        ]),\n",
    "    )\n",
    "    this_week_list.children[3].children[-1].children[0].on_click(change_button)\n",
    "    this_week_list.children[3].children[-1].children[1].on_click(remove_button)\n",
    "    return True\n",
    "    \n",
    "\n",
    "def generate_recipes(b):\n",
    "    if this_week_list.children[3].children:\n",
    "        this_week_list.children[3].children = ()\n",
    "    for i in range(this_week_list.children[0].value):\n",
    "        selection = random.randint(0, len(recipe_names)-1)\n",
    "        while not add_recipe(recipe_names[selection]):\n",
    "              selection = random.randint(0, len(recipe_names)-1)\n",
    "\n",
    "def get_general_ingredient_name(name, ingredient_dict):\n",
    "    for ingredient_name, ingredient_obj in ingredient_dict.items():\n",
    "        possible_names = [format_ingredient_name(ingredient_name)]\n",
    "        for ingredient_alt in ingredient_obj.get(\"alternatives\", []):\n",
    "            possible_names.append(format_ingredient_name(ingredient_alt))\n",
    "        if format_ingredient_name(name) in possible_names:\n",
    "            return ingredient_name\n",
    "    \n",
    "    raise Exception(f\"Ingredient '{name}' not known. Please add it. {possible_names}\")\n",
    "\n",
    "def create_shopping_list(b=None):\n",
    "    \n",
    "    # retrieve existing ingredients\n",
    "    ingredient_dict = None\n",
    "    with open(os.path.join(os.getcwd(),\"rsrc\", \"ingredients.yaml\"), 'r') as ingf:\n",
    "        ingredient_dict = yaml.load(ingf, Loader=yaml.FullLoader)\n",
    "    \n",
    "    # Process all recipes selected, extract ingredients and add then to the shopping list\n",
    "    shopping_list = {}\n",
    "    weekly_list = []\n",
    "    for recipe_widget in this_week_list.children[3].children:\n",
    "        recipe = Recipe.load(recipe_list[recipe_widget.children[-1].value][\"filename\"], recipe_list[recipe_widget.children[-1].value][\"id\"])\n",
    "        for recipe_ingredient in recipe.ingredients:\n",
    "            name = get_general_ingredient_name(recipe_ingredient[\"name\"], ingredient_dict)\n",
    "            if recipe_ingredient.get(\"description\"):\n",
    "                name += \" (\" + recipe_ingredient.get(\"description\") + \")\"\n",
    "            \n",
    "            unit, value = get_ingredient_unit(recipe_ingredient)\n",
    "            if unit is None or value is None:\n",
    "                raise Exception(f\"Ingredient {ingredient} with None value (from {recipe_widget.children[-1].value})\")\n",
    "            \n",
    "            if name in shopping_list.keys():\n",
    "                if unit != shopping_list[name][\"unit\"]:\n",
    "                    raise Exception(f\"Ingredients with different units. {name} ({unit}/{shopping_list[name]['unit']})\" )\n",
    "                shopping_list[name][\"value\"] += value\n",
    "            else:\n",
    "                shopping_list[name] = {\"unit\": unit, \"value\": value}\n",
    "        update_selection(recipe.name)\n",
    "        weekly_list.append(recipe.name)\n",
    "    \n",
    "    # saving the shopping list and this week's meals\n",
    "    with open(\"shopping_list.txt\", \"w\") as sl:\n",
    "        for name, content in shopping_list.items():\n",
    "            if content[\"unit\"] == \"x\":\n",
    "                sl.write(f\"- {name}: x {math.ceil(content['value'])}\\n\")\n",
    "            else:\n",
    "                unit = content['unit']\n",
    "                value = content['value']\n",
    "                for k, v in SCALING_FACTORS.items():\n",
    "                    if (v > 1.0 and value / v >= 1.0) or (v <= 1.0 and value / v >= 1.0):\n",
    "                        unit = k + unit\n",
    "                        value = value / v\n",
    "                        break\n",
    "                        \n",
    "                sl.write(f\"- {name}: {value}{unit}\\n\")\n",
    "                \n",
    "    with open(\"weekly_list.yaml\", \"w\") as wlf:\n",
    "        yaml.dump(weekly_list, wlf, default_flow_style=False)\n",
    "    print(\"Shopping list created successfully!\")\n",
    "    \n",
    "this_week_list.children[1].children[-1].on_click(add_button)        \n",
    "this_week_list.children[-2].on_click(generate_recipes)\n",
    "this_week_list.children[-1].on_click(create_shopping_list)\n",
    "display(this_week_list)\n",
    "\n",
    "with open(os.path.join(os.getcwd(), \"weekly_list.yaml\"), 'r') as wlf:\n",
    "    week_recipes = yaml.load(wlf, Loader=yaml.FullLoader)\n",
    "    for recipe in week_recipes:\n",
    "        add_recipe(recipe)"
   ]
  },
  {
   "cell_type": "code",
   "execution_count": 2,
   "id": "be17cfd7-1a03-4fcf-8d3e-0a4c06d4b64d",
   "metadata": {
    "tags": []
   },
   "outputs": [
    {
     "data": {
      "application/vnd.jupyter.widget-view+json": {
       "model_id": "5a227bb7fee940d1a436063da85862c0",
       "version_major": 2,
       "version_minor": 0
      },
      "text/plain": [
       "HTML(value=\"<a href='http://192.168.1.133:8080/voila/render/git/PyRecipe/show_recipes.ipynb'><b>Show recipes</…"
      ]
     },
     "metadata": {},
     "output_type": "display_data"
    },
    {
     "data": {
      "application/vnd.jupyter.widget-view+json": {
       "model_id": "14be03ad6e7d4fe4aabc7e2cdf332a92",
       "version_major": 2,
       "version_minor": 0
      },
      "text/plain": [
       "HTML(value=\"<a href='http://192.168.1.133:8080/voila/render/git/PyRecipe/create_recipe.ipynb'><b>Create or edi…"
      ]
     },
     "metadata": {},
     "output_type": "display_data"
    }
   ],
   "source": [
    "display(widgets.HTML(\n",
    "    value=\"<a href='http://192.168.1.133:8080/voila/render/git/PyRecipe/show_recipes.ipynb'><b>Show recipes</b></a>\"\n",
    "))\n",
    "display(widgets.HTML(\n",
    "    value=\"<a href='http://192.168.1.133:8080/voila/render/git/PyRecipe/create_recipe.ipynb'><b>Create or edit recipe</b></a>\"\n",
    "))"
   ]
  },
  {
   "cell_type": "code",
   "execution_count": 17,
   "id": "a31fac9c-1fdf-40c7-9bc7-c8cefbb9f59c",
   "metadata": {},
   "outputs": [
    {
     "name": "stdout",
     "output_type": "stream",
     "text": [
      "- thyme: x 1\n",
      "- carrot (small): x 2\n",
      "- onion: x 2\n",
      "- garlic: x 4\n",
      "- farce (vegetarian ): 200.0g\n",
      "- tomato sauce: 4.0dL\n",
      "- parmesan: x 1\n",
      "- pasta (spaghetti ): 400.0g\n",
      "- leek: x 2\n",
      "- egg: x 2\n",
      "- butter: 250.0g\n",
      "- cream (single cream): 2.5dL\n",
      "- butternut: x 2\n",
      "- thyme (branches ): x 2\n",
      "- chevre (crotins): x 2\n",
      "- cream (crème fraîche ): 2.9999999999999996dL\n",
      "- pain de mie (tranches): x 16\n",
      "- mozzarella (boules): x 2\n",
      "- pesto: x 1\n",
      "- pepper (en boite): x 2\n",
      "- pasta: 400.0g\n",
      "- salmon: 200.0g\n",
      "- cream (creme fraiche): 2.9999999999999996dL\n",
      "- chives: x 1\n",
      "- lemon: x 1\n",
      "- curry (green/red thaï curry paste): 1.0tbs\n",
      "- rice: 400.0g\n",
      "- coriander: x 1\n",
      "- chili: x 1\n",
      "\n"
     ]
    }
   ],
   "source": [
    "with open(os.path.join(os.getcwd(), \"shopping_list.txt\"), 'r') as wlf:\n",
    "    shopping_list = wlf.read()\n",
    "    print(shopping_list)"
   ]
  }
 ],
 "metadata": {
  "kernelspec": {
   "display_name": "Python 3 (ipykernel)",
   "language": "python",
   "name": "python3"
  },
  "language_info": {
   "codemirror_mode": {
    "name": "ipython",
    "version": 3
   },
   "file_extension": ".py",
   "mimetype": "text/x-python",
   "name": "python",
   "nbconvert_exporter": "python",
   "pygments_lexer": "ipython3",
   "version": "3.8.10"
  }
 },
 "nbformat": 4,
 "nbformat_minor": 5
}
