{
 "cells": [
  {
   "cell_type": "code",
   "execution_count": 1,
   "id": "535a6940-0b2b-40de-88a1-9258adf29e8d",
   "metadata": {},
   "outputs": [
    {
     "data": {
      "application/vnd.jupyter.widget-view+json": {
       "model_id": "78a2a1903b1543aebe7cdeae7cf3855a",
       "version_major": 2,
       "version_minor": 0
      },
      "text/plain": [
       "HBox(children=(Dropdown(description='Load existing', options=('Aubergines Feta', 'Brandade de Morue', 'Broccol…"
      ]
     },
     "metadata": {},
     "output_type": "display_data"
    },
    {
     "data": {
      "application/vnd.jupyter.widget-view+json": {
       "model_id": "2fd2d6d304de43c6bf48c70a03bc7051",
       "version_major": 2,
       "version_minor": 0
      },
      "text/plain": [
       "Text(value='', placeholder='Recipe Name')"
      ]
     },
     "metadata": {},
     "output_type": "display_data"
    },
    {
     "data": {
      "application/vnd.jupyter.widget-view+json": {
       "model_id": "79fc3ad4e95742b6a95e03a592e6758a",
       "version_major": 2,
       "version_minor": 0
      },
      "text/plain": [
       "BoundedIntText(value=4, max=10, min=1)"
      ]
     },
     "metadata": {},
     "output_type": "display_data"
    },
    {
     "data": {
      "application/vnd.jupyter.widget-view+json": {
       "model_id": "9cc6d8a2558c4f06bc8d7716c2d8193f",
       "version_major": 2,
       "version_minor": 0
      },
      "text/plain": [
       "VBox(children=(Label(value='New ingredients: '), HBox(children=(Button(icon='plus', style=ButtonStyle(), toolt…"
      ]
     },
     "metadata": {},
     "output_type": "display_data"
    },
    {
     "data": {
      "application/vnd.jupyter.widget-view+json": {
       "model_id": "cfdc102acf454ff5bbae1308b72077ba",
       "version_major": 2,
       "version_minor": 0
      },
      "text/plain": [
       "VBox(children=(Label(value='New instructions: '), HBox(children=(Button(icon='plus', style=ButtonStyle(), tool…"
      ]
     },
     "metadata": {},
     "output_type": "display_data"
    },
    {
     "data": {
      "application/vnd.jupyter.widget-view+json": {
       "model_id": "9162e8b8c1b1442f897f5c921dd814ce",
       "version_major": 2,
       "version_minor": 0
      },
      "text/plain": [
       "Button(icon='check', style=ButtonStyle(), tooltip='Save recipe')"
      ]
     },
     "metadata": {},
     "output_type": "display_data"
    },
    {
     "data": {
      "application/vnd.jupyter.widget-view+json": {
       "model_id": "2481f5a4f8f74609bff81c7e8e79743c",
       "version_major": 2,
       "version_minor": 0
      },
      "text/plain": [
       "Output()"
      ]
     },
     "metadata": {},
     "output_type": "display_data"
    }
   ],
   "source": [
    "import os\n",
    "import ipywidgets as widgets\n",
    "\n",
    "from src.Settings import RECIPE_DIR\n",
    "from src.Recipe import Recipe, list_recipes, UNITS, SCALING_FACTORS\n",
    "\n",
    "UNIT_OPTIONS = [ item for unit in UNITS.values() for item in unit]\n",
    "DEFAULT_NB_PEOPLE = 4\n",
    "\n",
    "recipe_list = list_recipes()\n",
    "recipe_names = list(recipe_list.keys())\n",
    "\n",
    "edit_drop_down = widgets.HBox(\n",
    "    [\n",
    "        widgets.Dropdown(options=recipe_names,\n",
    "                                description='Load existing',\n",
    "                                disabled=False),\n",
    "        widgets.Checkbox(\n",
    "            value=False,\n",
    "            description='Edit',\n",
    "            disabled=False,\n",
    "            indent=False)\n",
    "    ]\n",
    ")\n",
    "\n",
    "display(edit_drop_down)\n",
    "\n",
    "            \n",
    "recipe_name = widgets.Text(value='', placeholder='Recipe Name')\n",
    "display(recipe_name)\n",
    "nb_people = widgets.BoundedIntText(value=f\"{DEFAULT_NB_PEOPLE}\", min=1, max=10, placeholder='quantity')\n",
    "display(nb_people)\n",
    "\n",
    "def generate_ingredient_panel():\n",
    "     return [\n",
    "        widgets.Label(value=\"New ingredients: \"),\n",
    "        widgets.HBox([\n",
    "            widgets.Button(\n",
    "                disabled=False,\n",
    "                button_style='',\n",
    "                tooltip='Add a new ingredient',\n",
    "                icon='plus',\n",
    "            ),\n",
    "            widgets.Button(\n",
    "                disabled=False,\n",
    "                button_style='',\n",
    "                tooltip='Remove an ingredient',\n",
    "                icon='minus',\n",
    "            ),\n",
    "        ]),\n",
    "    ]\n",
    "    \n",
    "ingredients_list = widgets.VBox(generate_ingredient_panel())\n",
    "display(ingredients_list)\n",
    "\n",
    "def add_new_ingredient(l=None):\n",
    "    if isinstance(l, dict):\n",
    "        widget_list = []\n",
    "        for k,v in l.items():\n",
    "            if k in UNITS.keys():\n",
    "                widget_list.append(widgets.Dropdown(placeholder='Unit', options=UNIT_OPTIONS, value=UNITS[k][0], ensure_option=False, disabled=False))\n",
    "                widget_list.append(widgets.BoundedFloatText(value=v, min=0, max=1000, placeholder='quantity'))\n",
    "                break  \n",
    "        if not widget_list:\n",
    "            widget_list.append(widgets.Dropdown(placeholder='Unit', options=UNIT_OPTIONS, value='x', ensure_option=False, disabled=False))\n",
    "            widget_list.append(widgets.BoundedFloatText(value='1', min=0, max=1000, placeholder='quantity'))\n",
    "                    \n",
    "        widget_list.append(widgets.Text(value=f\"{l.get('name', '')}\", placeholder='ingredient name'))\n",
    "        widget_list.append(widgets.Text(value=f\"{l.get('description', '')}\", placeholder='description (optional)'))\n",
    "        ingredients_list.children += (widgets.HBox(widget_list),) \n",
    "    else:\n",
    "        ingredients_list.children += (widgets.HBox(\n",
    "                [\n",
    "                    widgets.Dropdown(placeholder='Unit', options=UNIT_OPTIONS, ensure_option=False, disabled=False),\n",
    "                    widgets.BoundedFloatText(value=\"1\", min=0, max=1000, placeholder='quantity'),\n",
    "                    widgets.Text(value=\"\", placeholder='ingredient name'),\n",
    "                    widgets.Text(value=\"\", placeholder='description (optional)'),\n",
    "                ]\n",
    "            ),)\n",
    "        \n",
    "def remove_last_ingredient(b=None):\n",
    "    if len(ingredients_list.children) > 2:\n",
    "        ingredients_list.children = ingredients_list.children[:-1]\n",
    "\n",
    "ingredients_list.children[1].children[0].on_click(add_new_ingredient) # plus button\n",
    "ingredients_list.children[1].children[1].on_click(remove_last_ingredient) # minus button\n",
    "\n",
    "def generate_instruction_panel():\n",
    "    return [\n",
    "        widgets.Label(value=\"New instructions: \"),\n",
    "        widgets.HBox([\n",
    "            widgets.Button(\n",
    "                disabled=False,\n",
    "                button_style='',\n",
    "                tooltip='Add a new instruction',\n",
    "                icon='plus',\n",
    "            ),\n",
    "            widgets.Button(\n",
    "                disabled=False,\n",
    "                button_style='',\n",
    "                tooltip='Remove an instruction',\n",
    "                icon='minus',\n",
    "            ),\n",
    "        ]),\n",
    "    ]\n",
    "    \n",
    "instructions_list = widgets.VBox(generate_instruction_panel())\n",
    "display(instructions_list)\n",
    "\n",
    "def add_new_instruction(l=None):\n",
    "    if isinstance(l, str):\n",
    "        instructions_list.children += (widgets.Text(value=l, placeholder='instruction'),)\n",
    "    else:\n",
    "        instructions_list.children += (widgets.Text(value=\"\", placeholder='instruction'),)\n",
    "        \n",
    "def remove_last_instruction(b=None):\n",
    "    if len(instructions_list.children) > 2:\n",
    "        instructions_list.children = instructions_list.children[:-1]\n",
    "\n",
    "instructions_list.children[1].children[0].on_click(add_new_instruction) # plus button\n",
    "instructions_list.children[1].children[1].on_click(remove_last_instruction) # minus button\n",
    "\n",
    "def parse_ingredient_list(ingredients):\n",
    "    parsed_ingredients = []\n",
    "    for child in ingredients.children[2:]:\n",
    "        if isinstance(child, widgets.HBox):\n",
    "            ingredient = {}\n",
    "            quantity_key = None\n",
    "            quantity_value = None\n",
    "            quantity_scale = None\n",
    "            for grandchild in child.children:\n",
    "                if isinstance(grandchild, widgets.Text) and grandchild.placeholder == 'ingredient name':\n",
    "                    ingredient[\"name\"] = grandchild.value\n",
    "                if isinstance(grandchild, widgets.Text) and grandchild.placeholder == 'description (optional)' and grandchild.value:\n",
    "                    ingredient[\"description\"] = grandchild.value\n",
    "                if isinstance(grandchild, widgets.Dropdown):\n",
    "                    for k,v in UNITS.items():\n",
    "                        if grandchild.value in v:\n",
    "                            quantity_key = k\n",
    "                            if k in (\"weight\", \"volume\") and grandchild.value != v[0]:\n",
    "                                quantity_scale = SCALING_FACTORS[grandchild.value[0]]\n",
    "                            else:\n",
    "                                quantity_scale = 1\n",
    "                            break\n",
    "                if isinstance(grandchild, widgets.BoundedFloatText):\n",
    "                    quantity_value = grandchild.value\n",
    "            if not (\"name\" in ingredient.keys() and quantity_key and quantity_value and quantity_scale):\n",
    "                print(f\"Wrong ingredient (idx {len(parsed_ingredients)})\")\n",
    "                print(\"keys:\", ingredient.keys(), \"quantity key:\", quantity_key, \"quantity_value:\", quantity_value, \"quantity_scale:\", quantity_scale)\n",
    "                return []\n",
    "            ingredient[quantity_key] = quantity_value * quantity_scale\n",
    "            parsed_ingredients.append(ingredient)\n",
    "    \n",
    "    return parsed_ingredients\n",
    "\n",
    "def parse_instruction_list(instructions):\n",
    "    parsed_instructions = []\n",
    "    for child in instructions.children[2:]:\n",
    "        if isinstance(child, widgets.Text) and child.placeholder == \"instruction\":\n",
    "            parsed_instructions.append(child.value)\n",
    "                \n",
    "    return parsed_instructions\n",
    "                \n",
    "    \n",
    "\n",
    "output = widgets.Output()\n",
    "def verify_recipe(b):\n",
    "    with output:\n",
    "        name = recipe_name.value\n",
    "        if not name:\n",
    "            print(\"Missing Recipe name!\")\n",
    "            return None\n",
    "        if len(ingredients_list.children) <= 2:\n",
    "            print(\"Missing ingredients!\")\n",
    "            return None\n",
    "        ingredients = parse_ingredient_list(ingredients_list)\n",
    "        if not ingredients:\n",
    "            print(\"Missing ingredients!\")\n",
    "            return None\n",
    "        if len(instructions_list.children) <= 2:\n",
    "            print(\"Missing instructions!\")\n",
    "            return None\n",
    "        instructions = parse_instruction_list(instructions_list)\n",
    "        if not instructions:\n",
    "            print(\"Missing instructions!\")\n",
    "            return None\n",
    "        \n",
    "        basename = name.lower().replace(\" \", \"_\").replace(\"/\", \"_\") + \".yaml\"\n",
    "        if Recipe(name, nb_people.value, ingredients, instructions).save(basename, edit_drop_down.children[1].value):\n",
    "            print(\"Recipe saved successfully!\")\n",
    "\n",
    "save_button = widgets.Button(\n",
    "    disabled=False,\n",
    "    button_style='',\n",
    "    tooltip='Save recipe',\n",
    "    icon='check',\n",
    ")\n",
    "\n",
    "\n",
    "display(save_button, output)\n",
    "save_button.on_click(verify_recipe)\n",
    "\n",
    "def dropdown_handler(change):\n",
    "    global nb_people, recipe_name, ingredients_list, instructions_list\n",
    "    if recipe_name.value:\n",
    "        nb_people.value = f\"{DEFAULT_NB_PEOPLE}\"\n",
    "        recipe_name.value = \"\"\n",
    "        ingredients_list.children = (widgets.VBox(generate_ingredient_panel()),)\n",
    "        instructions_list.children = (widgets.VBox(generate_instruction_panel()),)\n",
    "    \n",
    "    print(recipe_list[change[\"new\"]])\n",
    "    if edit_drop_down.children[1].value: # edit mode\n",
    "        recipe = Recipe.load(recipe_list[change[\"new\"]][\"filename\"], recipe_list[change[\"new\"]][\"id\"])\n",
    "        recipe_name.value = recipe.name\n",
    "        nb_people.value = recipe.nb_persons\n",
    "        for ingredient in recipe.ingredients:\n",
    "            add_new_ingredient(ingredient)\n",
    "        for instruction in recipe.instructions:\n",
    "            add_new_instruction(instruction)\n",
    "        \n",
    "edit_drop_down.children[0].observe(dropdown_handler, names='value')"
   ]
  }
 ],
 "metadata": {
  "kernelspec": {
   "display_name": "Python 3 (ipykernel)",
   "language": "python",
   "name": "python3"
  },
  "language_info": {
   "codemirror_mode": {
    "name": "ipython",
    "version": 3
   },
   "file_extension": ".py",
   "mimetype": "text/x-python",
   "name": "python",
   "nbconvert_exporter": "python",
   "pygments_lexer": "ipython3",
   "version": "3.9.5"
  }
 },
 "nbformat": 4,
 "nbformat_minor": 5
}
